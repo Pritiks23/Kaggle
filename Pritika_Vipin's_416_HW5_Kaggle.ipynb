{
  "cells": [
    {
      "cell_type": "markdown",
      "metadata": {
        "id": "mPZLxHG7N9mu"
      },
      "source": [
        "# **Kaggle HW5: [Pritika Vipin]**"
      ]
    },
    {
      "cell_type": "markdown",
      "metadata": {
        "id": "lRZ0yjtqYELC"
      },
      "source": [
        "**Remember to write your team name above, which MUST match your team name on Kaggle!!** Assignments without a team name will receive a 0/40 on the \"accuracy on test data\" component of this assignment's grade."
      ]
    },
    {
      "cell_type": "markdown",
      "metadata": {
        "id": "lwnjXjk4B41V"
      },
      "source": [
        "### **Load the Data**"
      ]
    },
    {
      "cell_type": "code",
      "execution_count": null,
      "metadata": {
        "id": "4WRff5x-3TYI"
      },
      "outputs": [],
      "source": [
        "# This cell is necessary only if you are running on Google Colab. It downloads the files to your\n",
        "# Colab instance so you don't have to upload them here.\n",
        "\n",
        "import requests\n",
        "\n",
        "def save_file(url, file_name):\n",
        "    r = requests.get(url)\n",
        "    with open(file_name, 'wb') as f:\n",
        "      f.write(r.content)\n",
        "\n",
        "save_file('https://courses.cs.washington.edu/courses/cse416/23sp/homeworks/hw5/edx_train.csv',\n",
        "          'edx_train.csv')\n",
        "save_file('https://courses.cs.washington.edu/courses/cse416/23sp/homeworks/hw5/edx_test.csv',\n",
        "          'edx_test.csv')"
      ]
    },
    {
      "cell_type": "markdown",
      "metadata": {
        "id": "4RBuRNVKB_sa"
      },
      "source": [
        "### **Sample Code: Random Classifier**\n",
        "\n",
        "**NOTE**: This classifier **DOES NOT** count as one of the 2 required for this assignment! It is merely here to illstrate how to submit your predictions.\n",
        "\n",
        "See the Kaggle assignment (Data tab) for a description of each column in the dataset. You are creating a classifier to predict whether or not a student will get certified, stored in the `\"certified\"` column."
      ]
    },
    {
      "cell_type": "code",
      "execution_count": null,
      "metadata": {
        "colab": {
          "base_uri": "https://localhost:8080/",
          "height": 74
        },
        "id": "O_mvbzSAd5dU",
        "outputId": "9c5dfe63-3eff-48f0-8c39-d0265b09fad5"
      },
      "outputs": [
        {
          "output_type": "execute_result",
          "data": {
            "text/plain": [
              "DummyClassifier(strategy='uniform')"
            ],
            "text/html": [
              "<style>#sk-container-id-1 {color: black;}#sk-container-id-1 pre{padding: 0;}#sk-container-id-1 div.sk-toggleable {background-color: white;}#sk-container-id-1 label.sk-toggleable__label {cursor: pointer;display: block;width: 100%;margin-bottom: 0;padding: 0.3em;box-sizing: border-box;text-align: center;}#sk-container-id-1 label.sk-toggleable__label-arrow:before {content: \"▸\";float: left;margin-right: 0.25em;color: #696969;}#sk-container-id-1 label.sk-toggleable__label-arrow:hover:before {color: black;}#sk-container-id-1 div.sk-estimator:hover label.sk-toggleable__label-arrow:before {color: black;}#sk-container-id-1 div.sk-toggleable__content {max-height: 0;max-width: 0;overflow: hidden;text-align: left;background-color: #f0f8ff;}#sk-container-id-1 div.sk-toggleable__content pre {margin: 0.2em;color: black;border-radius: 0.25em;background-color: #f0f8ff;}#sk-container-id-1 input.sk-toggleable__control:checked~div.sk-toggleable__content {max-height: 200px;max-width: 100%;overflow: auto;}#sk-container-id-1 input.sk-toggleable__control:checked~label.sk-toggleable__label-arrow:before {content: \"▾\";}#sk-container-id-1 div.sk-estimator input.sk-toggleable__control:checked~label.sk-toggleable__label {background-color: #d4ebff;}#sk-container-id-1 div.sk-label input.sk-toggleable__control:checked~label.sk-toggleable__label {background-color: #d4ebff;}#sk-container-id-1 input.sk-hidden--visually {border: 0;clip: rect(1px 1px 1px 1px);clip: rect(1px, 1px, 1px, 1px);height: 1px;margin: -1px;overflow: hidden;padding: 0;position: absolute;width: 1px;}#sk-container-id-1 div.sk-estimator {font-family: monospace;background-color: #f0f8ff;border: 1px dotted black;border-radius: 0.25em;box-sizing: border-box;margin-bottom: 0.5em;}#sk-container-id-1 div.sk-estimator:hover {background-color: #d4ebff;}#sk-container-id-1 div.sk-parallel-item::after {content: \"\";width: 100%;border-bottom: 1px solid gray;flex-grow: 1;}#sk-container-id-1 div.sk-label:hover label.sk-toggleable__label {background-color: #d4ebff;}#sk-container-id-1 div.sk-serial::before {content: \"\";position: absolute;border-left: 1px solid gray;box-sizing: border-box;top: 0;bottom: 0;left: 50%;z-index: 0;}#sk-container-id-1 div.sk-serial {display: flex;flex-direction: column;align-items: center;background-color: white;padding-right: 0.2em;padding-left: 0.2em;position: relative;}#sk-container-id-1 div.sk-item {position: relative;z-index: 1;}#sk-container-id-1 div.sk-parallel {display: flex;align-items: stretch;justify-content: center;background-color: white;position: relative;}#sk-container-id-1 div.sk-item::before, #sk-container-id-1 div.sk-parallel-item::before {content: \"\";position: absolute;border-left: 1px solid gray;box-sizing: border-box;top: 0;bottom: 0;left: 50%;z-index: -1;}#sk-container-id-1 div.sk-parallel-item {display: flex;flex-direction: column;z-index: 1;position: relative;background-color: white;}#sk-container-id-1 div.sk-parallel-item:first-child::after {align-self: flex-end;width: 50%;}#sk-container-id-1 div.sk-parallel-item:last-child::after {align-self: flex-start;width: 50%;}#sk-container-id-1 div.sk-parallel-item:only-child::after {width: 0;}#sk-container-id-1 div.sk-dashed-wrapped {border: 1px dashed gray;margin: 0 0.4em 0.5em 0.4em;box-sizing: border-box;padding-bottom: 0.4em;background-color: white;}#sk-container-id-1 div.sk-label label {font-family: monospace;font-weight: bold;display: inline-block;line-height: 1.2em;}#sk-container-id-1 div.sk-label-container {text-align: center;}#sk-container-id-1 div.sk-container {/* jupyter's `normalize.less` sets `[hidden] { display: none; }` but bootstrap.min.css set `[hidden] { display: none !important; }` so we also need the `!important` here to be able to override the default hidden behavior on the sphinx rendered scikit-learn.org. See: https://github.com/scikit-learn/scikit-learn/issues/21755 */display: inline-block !important;position: relative;}#sk-container-id-1 div.sk-text-repr-fallback {display: none;}</style><div id=\"sk-container-id-1\" class=\"sk-top-container\"><div class=\"sk-text-repr-fallback\"><pre>DummyClassifier(strategy=&#x27;uniform&#x27;)</pre><b>In a Jupyter environment, please rerun this cell to show the HTML representation or trust the notebook. <br />On GitHub, the HTML representation is unable to render, please try loading this page with nbviewer.org.</b></div><div class=\"sk-container\" hidden><div class=\"sk-item\"><div class=\"sk-estimator sk-toggleable\"><input class=\"sk-toggleable__control sk-hidden--visually\" id=\"sk-estimator-id-1\" type=\"checkbox\" checked><label for=\"sk-estimator-id-1\" class=\"sk-toggleable__label sk-toggleable__label-arrow\">DummyClassifier</label><div class=\"sk-toggleable__content\"><pre>DummyClassifier(strategy=&#x27;uniform&#x27;)</pre></div></div></div></div></div>"
            ]
          },
          "metadata": {},
          "execution_count": 3
        }
      ],
      "source": [
        "import pandas as pd\n",
        "from sklearn.dummy import DummyClassifier\n",
        "\n",
        "target = \"certified\" # target column\n",
        "\n",
        "# This classifier returns labels sampled uniformly at random\n",
        "df_train = pd.read_csv('edx_train.csv')\n",
        "dummy_model = DummyClassifier(strategy=\"uniform\")\n",
        "dummy_model.fit(df_train.drop(target, axis=1), df_train[target])"
      ]
    },
    {
      "cell_type": "code",
      "execution_count": null,
      "metadata": {
        "colab": {
          "base_uri": "https://localhost:8080/"
        },
        "id": "nO9kydBGXT15",
        "outputId": "04e6d10a-5eba-455e-eedc-7cf0934355cf"
      },
      "outputs": [
        {
          "output_type": "stream",
          "name": "stdout",
          "text": [
            "                    course_id       userid_DI  registered  viewed  explored  \\\n",
            "0         HarvardX/CS50x/2012  MHxPC130545492           1       1         1   \n",
            "1  HarvardX/ER22x/2013_Spring  MHxPC130536944           1       1         1   \n",
            "2         HarvardX/CS50x/2012  MHxPC130442298           1       1         1   \n",
            "3  HarvardX/ER22x/2013_Spring  MHxPC130273564           1       1         1   \n",
            "4         HarvardX/CS50x/2012  MHxPC130247761           1       1         0   \n",
            "\n",
            "   certified final_cc_cname_DI      LoE_DI     YoB gender start_time_DI  \\\n",
            "0          1     United States    Master's  1984.0      m       3/10/13   \n",
            "1          1    United Kingdom    Master's  1985.0      f       3/13/13   \n",
            "2          1             India         NaN     NaN    NaN        8/2/12   \n",
            "3          1    United Kingdom  Bachelor's  1982.0      m       1/23/13   \n",
            "4          0     United States   Secondary  1989.0      m        3/5/13   \n",
            "\n",
            "  last_event_DI  nevents  ndays_act  nplay_video  nchapters  nforum_posts  \n",
            "0       7/29/13   1161.0       50.0          NaN       12.0             0  \n",
            "1        8/1/13   1360.0       10.0          NaN       29.0             0  \n",
            "2       7/25/13     77.0       18.0          NaN        7.0             0  \n",
            "3       8/13/13   1425.0       29.0          NaN       34.0             0  \n",
            "4        3/5/13      6.0        1.0          NaN        1.0             0  \n"
          ]
        }
      ],
      "source": [
        "print(df_train.head())"
      ]
    },
    {
      "cell_type": "markdown",
      "metadata": {
        "id": "F3pMT8VlEk15"
      },
      "source": [
        "The code below generates predictions on the test set, and outputs the predictions into a CSV file."
      ]
    },
    {
      "cell_type": "code",
      "execution_count": null,
      "metadata": {
        "id": "W1vMUKAVeDWK"
      },
      "outputs": [],
      "source": [
        "# Generate predictions on the test set\n",
        "df_test = pd.read_csv('edx_test.csv')\n",
        "predictions = dummy_model.predict(df_test)\n",
        "\n",
        "# Save your predictions as a CSV\n",
        "to_save = df_test[['userid_DI']].copy()\n",
        "to_save.loc[:, 'certified'] = predictions\n",
        "to_save.to_csv('submission.csv', index=False)\n",
        "\n",
        "# See below for instructions on how to upload submission.csv to Kaggle,\n",
        "# in order to evaluate your model and get points."
      ]
    },
    {
      "cell_type": "markdown",
      "metadata": {
        "id": "r4Sv5DRBOJ_Q"
      },
      "source": [
        "### **[5 Pts] Model Comparison**\n",
        "\n",
        "**Instructions**: Run at least 2 different classification models. The classification models we have learned in class are: [Logistic Regression](https://scikit-learn.org/stable/modules/generated/sklearn.linear_model.LogisticRegression.html), [k-Nearest Neighbors](https://scikit-learn.org/stable/modules/generated/sklearn.neighbors.KNeighborsClassifier.html), [Decision Trees](https://scikit-learn.org/stable/modules/generated/sklearn.tree.DecisionTreeClassifier.html), [Random Forests](https://scikit-learn.org/stable/modules/generated/sklearn.ensemble.RandomForestClassifier.html), and [AdaBoost](https://scikit-learn.org/stable/modules/generated/sklearn.ensemble.AdaBoostClassifier.html), [Neural Networks](https://scikit-learn.org/stable/modules/neural_networks_supervised.html). For each model, try at least 2 different hyperparameter settings.\n",
        "\n",
        "Then, make one or more visualizations that let you compare the models you trained. Sample visualizations you can make include confusion matrices, or graphs of train and validation accuracy/error. See past section and homework code for how to make these visualizations."
      ]
    },
    {
      "cell_type": "code",
      "execution_count": 16,
      "metadata": {
        "colab": {
          "base_uri": "https://localhost:8080/"
        },
        "id": "lKICVk8MyMAu",
        "outputId": "adc825b9-3459-4e68-e57a-5c30c56b275b"
      },
      "outputs": [
        {
          "output_type": "stream",
          "name": "stdout",
          "text": [
            "best parameters for kNN {'n_neighbors': 9, 'weights': 'distance'}\n",
            "best cross validation accuracy for kNN: 0.96152094432666\n"
          ]
        }
      ],
      "source": [
        "import pandas as pd\n",
        "from sklearn.neighbors import KNeighborsClassifier\n",
        "from sklearn.model_selection import GridSearchCV\n",
        "\n",
        "train = pd.read_csv('edx_train.csv')\n",
        "test = pd.read_csv('edx_test.csv')\n",
        "target = 'certified'\n",
        "x_train = train.drop(target, axis=1)\n",
        "y_train = train[target]\n",
        "x_train = pd.get_dummies(x_train)\n",
        "x_test = pd.get_dummies(test)\n",
        "x_train, x_test = x_train.align(x_test, join = 'left', axis=1)\n",
        "\n",
        "x_train = x_train.fillna(0)\n",
        "x_test = x_test.fillna(0)\n",
        "knn_params = {'n_neighbors': [2, 5, 7, 9], 'weights': ['uniform', 'distance']}\n",
        "knn = KNeighborsClassifier()\n",
        "knn_cv = GridSearchCV(knn, knn_params, cv=5, scoring='accuracy')\n",
        "knn_cv.fit(x_train, y_train)\n",
        "knn_pred = knn_cv.predict(x_test)\n",
        "\n",
        "print(\"best parameters for kNN\", knn_cv.best_params_)\n",
        "print(\"best cross validation accuracy for kNN:\", knn_cv.best_score_)\n",
        "#my output: best parameters for kNN {'n_neighbors': 7, 'weights': 'distance'}\n",
        "#best cross validation accuracy for kNN: 0.961292307852786\n",
        "# Saving predictions as a CSV\n",
        "to_save_1 = df_test[['userid_DI']].copy()\n",
        "to_save_1.loc[:, 'certified'] = knn_pred\n",
        "to_save_1.to_csv('knn2_submission.csv', index=False)\n"
      ]
    },
    {
      "cell_type": "code",
      "execution_count": 18,
      "metadata": {
        "id": "PYPnXlK54sfw",
        "colab": {
          "base_uri": "https://localhost:8080/"
        },
        "outputId": "5cd9a59d-810c-4cdc-8b57-91f8a6b0f50f"
      },
      "outputs": [
        {
          "output_type": "stream",
          "name": "stdout",
          "text": [
            "best parameters for adaboost {'learning_rate': 0.1, 'n_estimators': 100}\n",
            "best cross validation accuracy for adaboost: 0.9615210095209783\n"
          ]
        }
      ],
      "source": [
        "import pandas as pd\n",
        "from sklearn.ensemble import AdaBoostClassifier\n",
        "from sklearn.model_selection import GridSearchCV\n",
        "\n",
        "train = pd.read_csv('edx_train.csv')\n",
        "test = pd.read_csv('edx_test.csv')\n",
        "target = 'certified'\n",
        "\n",
        "\n",
        "x_train = train.drop(target, axis=1)\n",
        "y_train = train[target]\n",
        "x_train = pd.get_dummies(x_train)\n",
        "x_test = pd.get_dummies(test)\n",
        "x_train, x_test = x_train.align(x_test, join = 'left', axis=1)\n",
        "x_train = x_train.fillna(0)\n",
        "x_test = x_test.fillna(0)\n",
        "ada_params = {'n_estimators': [50, 100], 'learning_rate': [0.1, 1]}\n",
        "ada = AdaBoostClassifier()\n",
        "ada_cv = GridSearchCV(ada,ada_params, cv=5, scoring='accuracy')\n",
        "ada_cv.fit(x_train, y_train)\n",
        "ada_pred = ada_cv.predict(x_test)\n",
        "\n",
        "print(\"best parameters for adaboost\", ada_cv.best_params_)\n",
        "print(\"best cross validation accuracy for adaboost:\", ada_cv.best_score_)\n",
        "\n",
        "\n",
        "#my output: best parameters for adaboost {'learning_rate': 0.1, 'n_estimators': 100}\n",
        "#best cross validation accuracy for adaboost: 0.9615210095209783\n",
        "# Saving predictions as a CSV\n",
        "#to_save_1 = df_test[['userid_DI']].copy()\n",
        "#to_save_1.loc[:, 'certified'] = ada_pred\n",
        "#to_save_1.to_csv('adaboost_submission.csv', index=False)"
      ]
    },
    {
      "cell_type": "markdown",
      "source": [
        "Above I realized I hadn't used split data into validation so I did that below. I kept the initial csvs as validation does not directly change the values on the CSVS i created above. Please look down here for my full code for KNN classfier and AdaBoost Classifier. The features I choose were the ones I believed would be most impactful on predicting the most accurate results."
      ],
      "metadata": {
        "id": "d_ozyHCEGhJc"
      }
    },
    {
      "cell_type": "code",
      "execution_count": 21,
      "metadata": {
        "colab": {
          "base_uri": "https://localhost:8080/",
          "height": 1000
        },
        "id": "nNboioURF2fL",
        "outputId": "25c43ac3-7f4b-4e3f-9948-8255e48f283c"
      },
      "outputs": [
        {
          "output_type": "stream",
          "name": "stdout",
          "text": [
            "kNN Classification Report:                precision    recall  f1-score   support\n",
            "\n",
            "           0       0.97      0.94      0.96       968\n",
            "           1       0.93      0.97      0.95       784\n",
            "\n",
            "    accuracy                           0.95      1752\n",
            "   macro avg       0.95      0.95      0.95      1752\n",
            "weighted avg       0.95      0.95      0.95      1752\n",
            "\n",
            "adaboost classification report:                precision    recall  f1-score   support\n",
            "\n",
            "           0       0.99      0.93      0.96       968\n",
            "           1       0.92      0.99      0.96       784\n",
            "\n",
            "    accuracy                           0.96      1752\n",
            "   macro avg       0.96      0.96      0.96      1752\n",
            "weighted avg       0.96      0.96      0.96      1752\n",
            "\n"
          ]
        },
        {
          "output_type": "display_data",
          "data": {
            "text/plain": [
              "<Figure size 1000x500 with 4 Axes>"
            ],
            "image/png": "[encoded data removed]"
          },
          "metadata": {}
        },
        {
          "output_type": "display_data",
          "data": {
            "text/plain": [
              "<Figure size 800x500 with 1 Axes>"
            ],
            "image/png": "[encoded data removed]"
          },
          "metadata": {}
        }
      ],
      "source": [
        "#total stuff\n",
        "\n",
        "import pandas as pd\n",
        "from sklearn.metrics import accuracy_score, confusion_matrix, classification_report\n",
        "\n",
        "from sklearn.ensemble import AdaBoostClassifier\n",
        "from sklearn.model_selection import train_test_split, GridSearchCV\n",
        "from sklearn.neighbors import KNeighborsClassifier\n",
        "import seaborn as sns\n",
        "import matplotlib.pyplot as plt\n",
        "\n",
        "train = pd.read_csv('edx_train.csv')\n",
        "test = pd.read_csv('edx_test.csv')\n",
        "target = 'certified'\n",
        "features = ['viewed', 'explored', 'registered', 'final_cc_cname_DI', 'LoE_DI', 'gender', 'YoB', 'nplay_video', 'nchapters', 'nforum_posts']\n",
        "#x_train = train.drop(target, axis=1)\n",
        "x_train = train[features]\n",
        "y_train = train[target]\n",
        "# this was how I tried to handle categoriucal vairbales and make them numerical!\n",
        "x_train = pd.get_dummies(x_train)\n",
        "x_test = pd.get_dummies(test[features])\n",
        "x_train, x_test = x_train.align(x_test, join = 'left', axis=1)\n",
        "# I wanted to handle NAN to change it to 0\n",
        "x_train = x_train.fillna(0)\n",
        "x_test = x_test.fillna(0)\n",
        "# n_neighbors of 9 ended up being best\n",
        "x_train_split, x_val_split , y_train_split, y_val_split = train_test_split(x_train, y_train, test_size=0.2)\n",
        "knn_params = {'n_neighbors': [2, 5, 7, 9],\n",
        "              'weights': ['uniform', 'distance']}\n",
        "knn = KNeighborsClassifier()\n",
        "knn_cv = GridSearchCV(knn, knn_params, cv=5, scoring='accuracy')\n",
        "knn_cv.fit(x_train_split, y_train_split)\n",
        "knn_val_pred = knn_cv.predict(x_val_split)\n",
        "# note I tried changing up the estimators and playing around with 40, 50, 100 but it was too computationally expensive and runtime was over 30 min to execute so I changed it back to what I found were basic values for n_estimators and using extremes of learning rate/\n",
        "ada_params = {'n_estimators': [50,  100],\n",
        "              'learning_rate': [0.1, 1]}\n",
        "ada = AdaBoostClassifier()\n",
        "ada_cv = GridSearchCV(ada, ada_params, cv=5, scoring='accuracy')\n",
        "ada_cv.fit(x_train_split, y_train_split)\n",
        "ada_val_predictions = ada_cv.predict(x_val_split)\n",
        "\n",
        "\n",
        "\n",
        "knn_confusion = confusion_matrix(y_val_split, knn_val_pred)\n",
        "ada_confusion = confusion_matrix(y_val_split, ada_val_predictions)\n",
        "knn_accuracy = accuracy_score(y_val_split, knn_val_pred)\n",
        "ada_accuracy = accuracy_score(y_val_split, ada_val_predictions)\n",
        "\n",
        "\n",
        "print(\"kNN Classification Report: \", classification_report(y_val_split, knn_val_pred))\n",
        "print(\"adaboost classification report: \", classification_report(y_val_split, ada_val_predictions))\n",
        "fig, axes = plt.subplots(1,2, figsize=(10,5))\n",
        "sns.heatmap(knn_confusion, annot=True, ax=axes[0])\n",
        "axes[0].set_title(\"kNN Confusion Matrix\")\n",
        "axes[0].set_xlabel('Predicted')\n",
        "axes[0].set_ylabel('Actual')\n",
        "sns.heatmap(ada_confusion, annot=True, ax=axes[1])\n",
        "axes[1].set_title('Adaboost Confusion Matrix')\n",
        "axes[1].set_xlabel('predicted')\n",
        "axes[1].set_ylabel('actual')\n",
        "plt.show()\n",
        "models = ['kNN', 'AdaBoost']\n",
        "accuracies = [knn_accuracy, ada_accuracy]\n",
        "plt.figure(figsize=(8,5))\n",
        "plt.bar(models, accuracies, color=['red', 'black'])\n",
        "\n",
        "plt.ylabel('Accuracy')\n",
        "plt.title(\"Comparing Accuracy of Models\")\n",
        "plt.ylim(0,1)\n",
        "plt.show()"
      ]
    },
    {
      "cell_type": "markdown",
      "source": [
        "## Analysis of Results/Visualization above:\n",
        "class 0(where user is not certified) the knn model had a precision of 99% and a recall of 93% The F1 score was 0.96.\n",
        "In Class 1(where user was certified) knn model had a precision of 92% and recall was 97% and the F1 score was 0.95.\n",
        "\n",
        "Weighted Averages for kNN: precision, recall,& f1score was all 0.95\n",
        "\n",
        "class 0(where user is not certified) the adaBoost model had a precision of 99% and a recall of 94% The F1 score was 0.96.\n",
        "In Class 1(where user was certified) adaBoost model had a precision of 93% and recall was 98% and the F1 score was 0.95.\n",
        "Weighted Averages for AdaBoost precision, recall and f1 score was all 0.96.\n",
        "\n",
        "Adaboost has a slighlty better accuracy than kNN, Adaboost is better than knn in class 0 precision, and better in recall for class 1.\n",
        "\n",
        "High precision of both models mean few false positive errors."
      ],
      "metadata": {
        "id": "CKcraqfnPKlV"
      }
    },
    {
      "cell_type": "markdown",
      "metadata": {
        "id": "xz_Yk6BDXk1H"
      },
      "source": [
        "**Remember to submit your submissions CSV FILE on Kaggle!** 40 pts come from your accuracy on the private test data.\n",
        "\n",
        "Attend section on Thurs 5/11 for a demo of how to uppload submissions to Kaggle. We also have screenshots below (ingore summer and homework number in pictures)\n",
        "\n",
        "Step 1: See the list of files on Colab\n",
        "\n",
        "![See Colab Files](https://courses.cs.washington.edu/courses/cse416/22su/homework/hw4/programming/1_colab_see_files.jpg)\n",
        "\n",
        "Step 2: Download `submission.csv`\n",
        "\n",
        "![Download Colab File](https://courses.cs.washington.edu/courses/cse416/22su/homework/hw4/programming/2_colab_download_file.jpg)\n",
        "\n",
        "Step 3: Join the Kaggle competition.\n",
        "\n",
        "![Join the Kaggle Competition](https://courses.cs.washington.edu/courses/cse416/22su/homework/hw4/programming/3_kaggle_join_competition.jpg)\n",
        "\n",
        "Step 4: Enusre your team name in Kaggle matches the one at the top of this notebook!\n",
        "\n",
        "![Check Team Name](https://courses.cs.washington.edu/courses/cse416/22su/homework/hw4/programming/4_kaggle_team_name.jpg)\n",
        "\n",
        "Step 5: Upload `submission.csv` to Kaggle\n",
        "\n",
        "![Upload submission.csv](https://courses.cs.washington.edu/courses/cse416/22su/homework/hw4/programming/6_kaggle_upload_submission.jpg)\n",
        "\n"
      ]
    },
    {
      "cell_type": "markdown",
      "metadata": {
        "id": "aOwxTjy3OPh6"
      },
      "source": [
        "### **Discussion**\n",
        "\n"
      ]
    },
    {
      "cell_type": "markdown",
      "metadata": {
        "id": "W8wZm-0cOe6U"
      },
      "source": [
        "#### **[7 Pts] Training the Models**\n",
        "\n",
        "**Instructions**: Discuss what models you tried, and what you did to improve your initial predictions. Discuss what hyperparameters you tried, and which hyperparameters seemed important for your final model. Finally, discuss what you are inferring from the above visualiation(s)."
      ]
    },
    {
      "cell_type": "markdown",
      "metadata": {
        "id": "S55RNjOEWTaL"
      },
      "source": [
        "I tried kNN model and Adaboost. I used GridSeach CV for hyperparameter tuning and choosing the best combination of hyperparameters.\n",
        "\n",
        "I tried hyperparameters for kNN: n_neighbors': [2, 5, 7, 9],\n",
        "              'weights': ['uniform', 'distance']\n",
        "\n",
        "              hyperparameters for AdaBoost: ada_params = {'n_estimators': [40, 50, 100],\n",
        "              'learning_rate': [0.1, 0.5, 1]}\n",
        "\n",
        "\n",
        "For knn the hyperparameters that worked best were 9 and distance. For Adaboost the hyperparameters that worked best were n_estimators 100, learning rate 0.1.\n",
        "\n",
        "Inferring the above visualization: for knn when user was not certified precision was 98%, recall was 97% for actual certified users, and accurcay was 95%\n",
        "\n",
        "For AdaBoost when users were not certified preciison was 99%, recall was 98% for certified users, and accurcay was 96%."
      ]
    },
    {
      "cell_type": "markdown",
      "metadata": {
        "id": "1QFdF3wSXLgd"
      },
      "source": []
    },
    {
      "cell_type": "markdown",
      "metadata": {
        "id": "4uCjBLL1Ow-Q"
      },
      "source": [
        "#### **[3 Pts] Feature Selection**\n",
        "\n",
        "**Instructions**: Discuss what features you used and whether you did some transformations on them. What features seemed important for your final model?"
      ]
    },
    {
      "cell_type": "markdown",
      "metadata": {
        "id": "oOGdC9EGXKst"
      },
      "source": [
        "the features I choose were ['viewed', 'explored', 'registered', 'final_cc_cname_DI', 'LoE_DI', 'gender', 'YoB', 'nplay_video', 'nchapters', 'nforum_posts']\n",
        "\n",
        "I handled missing values NaNs by filling them in with 0s. by doing x_train = pd.get_dummies(x_train) I did one-hot encoding of all the categorical variables to turn them into numerical variables and followed suit for the test set by aligning them i also made sure that they were equivalent in # of columns.\n",
        "\n"
      ]
    },
    {
      "cell_type": "markdown",
      "metadata": {
        "id": "nbodmlrhPCJv"
      },
      "source": [
        "#### **[5 Pts] Ethical Implications**\n",
        "\n",
        "**Instructions**: Consider and discuss the ethical implications of using the model you trained. Imagine you were hired to work as a data scientist for an online education platform (exciting, right?). They want to use your model to predict which students they should tailor their course material towards so they can maximize their profits. Their idea is to use the model to help predict which student groups (i.e. from specific countries or certain educational backgrounds) would make them the most money by getting the most participants to complete their paid certificate program. Are there any ethical considerations we should think about before acting on that plan?"
      ]
    },
    {
      "cell_type": "markdown",
      "metadata": {
        "id": "w3WVhDKSXMAt"
      },
      "source": [
        "Yes! By only focusing on specific students from the predictions of who will be most likely to pay(or pay most?) there will be some students who will be disadvanatged especially those from poorer countries and those who are underrepresneted in the dataset. There could also be bias in the dataset that can cause unfair preidctions esepcially if groups ar emisrepresneted in the dataset itself. We should also aim for tranparency about the blackbox methollogy of how the model is making preidctions for the online education platform. There are also valid privacy and consent issues that arise as students should be told beforehand how their data will be used.\n",
        "Note we should consider not only profit but student outcomes and how they will be affected. We also don't want to reinforce sterotypes and be biased towards students from some countries or of some background.\n",
        "\n",
        "Another important point is by only foucisng on the reccomendations by the model we could lose diversity in the methods used to teach which could lead to reducing valudable perspectives."
      ]
    }
  ],
  "metadata": {
    "colab": {
      "provenance": []
    },
    "kernelspec": {
      "display_name": "Python 3",
      "name": "python3"
    },
    "language_info": {
      "name": "python"
    }
  },
  "nbformat": 4,
  "nbformat_minor": 0
}